{
  "cells": [
    {
      "cell_type": "code",
      "execution_count": 2,
      "metadata": {
        "colab": {
          "base_uri": "https://localhost:8080/"
        },
        "id": "1r8_HkU7KKkE",
        "outputId": "9cf4321e-024a-4e6b-d2d2-fded023188fb"
      },
      "outputs": [
        {
          "name": "stdout",
          "output_type": "stream",
          "text": [
            "--2024-05-14 17:37:24--  https://static.openfoodfacts.org/data/en.openfoodfacts.org.products.csv.gz\n",
            "Resolving static.openfoodfacts.org (static.openfoodfacts.org)... 213.36.253.214\n",
            "Connecting to static.openfoodfacts.org (static.openfoodfacts.org)|213.36.253.214|:443... connected.\n",
            "HTTP request sent, awaiting response... 200 OK\n",
            "Length: 911621805 (869M) [application/octet-stream]\n",
            "Saving to: ‘en.openfoodfacts.org.products.csv.gz’\n",
            "\n",
            "en.openfoodfacts.or 100%[===================>] 869.39M  37.4MB/s    in 26s     \n",
            "\n",
            "2024-05-14 17:37:50 (33.5 MB/s) - ‘en.openfoodfacts.org.products.csv.gz’ saved [911621805/911621805]\n",
            "\n"
          ]
        }
      ],
      "source": [
        "!wget https://static.openfoodfacts.org/data/en.openfoodfacts.org.products.csv.gz"
      ]
    },
    {
      "cell_type": "code",
      "execution_count": 4,
      "metadata": {
        "id": "iP69MRt6KUjn"
      },
      "outputs": [],
      "source": [
        "!gunzip /content/en.openfoodfacts.org.products.csv.gz"
      ]
    },
    {
      "cell_type": "code",
      "execution_count": 5,
      "metadata": {
        "id": "szUfPECrMjPm"
      },
      "outputs": [],
      "source": [
        "import pandas as pd"
      ]
    },
    {
      "cell_type": "code",
      "execution_count": 81,
      "metadata": {
        "colab": {
          "base_uri": "https://localhost:8080/"
        },
        "id": "M3NWvjrzMkkF",
        "outputId": "bcb3a155-9e7a-479d-e504-bcf10fb039e9"
      },
      "outputs": [
        {
          "name": "stderr",
          "output_type": "stream",
          "text": [
            "<ipython-input-81-b57c6de361e7>:1: DtypeWarning: Columns (0,17,72) have mixed types. Specify dtype option on import or set low_memory=False.\n",
            "  df = pd.read_csv('/content/en.openfoodfacts.org.products.csv', sep='\\t', nrows=10000)\n"
          ]
        }
      ],
      "source": [
        "df = pd.read_csv('/content/en.openfoodfacts.org.products.csv', sep='\\t', nrows=10000)"
      ]
    },
    {
      "cell_type": "code",
      "execution_count": 82,
      "metadata": {
        "id": "-aNDaEpuR4ne"
      },
      "outputs": [],
      "source": [
        "df = df[[col for col in df.columns.tolist() if '100g' in col]]"
      ]
    },
    {
      "cell_type": "code",
      "execution_count": 83,
      "metadata": {
        "id": "72smiusbR6F3"
      },
      "outputs": [],
      "source": [
        "df = df.dropna(axis=1, thresh=3000).fillna(0)"
      ]
    },
    {
      "cell_type": "code",
      "execution_count": 84,
      "metadata": {
        "colab": {
          "base_uri": "https://localhost:8080/"
        },
        "id": "zH1mUY9dU-6i",
        "outputId": "6758d37c-7f3e-42ac-c684-cb69648d9a0f"
      },
      "outputs": [
        {
          "data": {
            "text/plain": [
              "energy-kcal_100g                                         2648\n",
              "energy_100g                                              2584\n",
              "fat_100g                                                 2759\n",
              "saturated-fat_100g                                       3360\n",
              "carbohydrates_100g                                       2686\n",
              "sugars_100g                                              3050\n",
              "fiber_100g                                               5413\n",
              "proteins_100g                                            2694\n",
              "salt_100g                                                4263\n",
              "sodium_100g                                              4263\n",
              "fruits-vegetables-nuts-estimate-from-ingredients_100g    6828\n",
              "dtype: int64"
            ]
          },
          "execution_count": 84,
          "metadata": {},
          "output_type": "execute_result"
        }
      ],
      "source": [
        "df.isnull().sum()"
      ]
    },
    {
      "cell_type": "code",
      "execution_count": null,
      "metadata": {},
      "outputs": [],
      "source": [
        "df.to_csv('openfoodfacts.csv', index=False)"
      ]
    }
  ],
  "metadata": {
    "colab": {
      "provenance": []
    },
    "kernelspec": {
      "display_name": "Python 3",
      "name": "python3"
    },
    "language_info": {
      "name": "python"
    }
  },
  "nbformat": 4,
  "nbformat_minor": 0
}
